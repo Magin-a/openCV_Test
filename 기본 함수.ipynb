{
  "nbformat": 4,
  "nbformat_minor": 0,
  "metadata": {
    "colab": {
      "name": "Untitled0.ipynb",
      "provenance": [],
      "authorship_tag": "ABX9TyP9ka0gWHIy28B8p/E3paAv"
    },
    "kernelspec": {
      "name": "python3",
      "display_name": "Python 3"
    },
    "language_info": {
      "name": "python"
    }
  },
  "cells": [
    {
      "cell_type": "code",
      "execution_count": null,
      "metadata": {
        "id": "9gXkC2uCaE0Z"
      },
      "outputs": [],
      "source": [
        "import cv2 as cv"
      ]
    },
    {
      "cell_type": "code",
      "source": [
        "#1. 이미지 읽어오기 \n",
        "'cv.imread(\"filename\", \"flag\")'"
      ],
      "metadata": {
        "id": "4tFs5H32aOWM"
      },
      "execution_count": null,
      "outputs": []
    },
    {
      "cell_type": "markdown",
      "source": [
        "이미지를 읽어 numpy객체로 만드는 함수\\\n",
        "> - flag = 이미지를 읽는 방법 설정"
      ],
      "metadata": {
        "id": "2zFtXw3xaeXz"
      }
    },
    {
      "cell_type": "code",
      "source": [
        "img = cv.imread(pic, cv.IMREAD_COLOR)\n",
        "img = cv.imread(pic, cv.IMREAD_GRAYSCALE)\n",
        "img = cv.imread(pic, cv.IMREAD_UNCHANGED)"
      ],
      "metadata": {
        "id": "ztPiP5tmaOQG"
      },
      "execution_count": null,
      "outputs": []
    },
    {
      "cell_type": "markdown",
      "source": [
        " IMREAD_COLOR : 컬러 이미지를 읽고 투명한 부분은 무시\\\n",
        " IMREAD_GRAYSCALE : 이미지를 grayscal로 읽기\\\n",
        " IMREAD_UNCHANGED : 컬러 이미지를 읽고 투명한 부분(alpha)도 읽는다.\\\n",
        " **주의) opencv에서는 B G R 순의 엑셀 값을 갖는다."
      ],
      "metadata": {
        "id": "RUJfjcPhbkzS"
      }
    },
    {
      "cell_type": "code",
      "source": [
        "#이미지 읽어서 보여주기\n",
        "cv.imshow('title', 'image')"
      ],
      "metadata": {
        "id": "1XLA2Gg0aOSN"
      },
      "execution_count": null,
      "outputs": []
    },
    {
      "cell_type": "markdown",
      "source": [
        "특정한 이미지를 화면에 출력한다.\n",
        "> - title : 윈도우 창의 제목\n",
        "> - image : 출력한 이미지 객체"
      ],
      "metadata": {
        "id": "13kLhddCcBFd"
      }
    },
    {
      "cell_type": "code",
      "source": [
        "#이미지 저장\n",
        "cv.imwrite('file_name', 'image')"
      ],
      "metadata": {
        "id": "lMZF1tPXaOH3"
      },
      "execution_count": null,
      "outputs": []
    },
    {
      "cell_type": "markdown",
      "source": [
        "특정 이미지를 파일로 저장하는 함수\n",
        "> - file_name : 저장할 파일이름"
      ],
      "metadata": {
        "id": "hDx4QQftcSuN"
      }
    },
    {
      "cell_type": "code",
      "source": [
        "#waitKey 함수(활용도 높음)\n",
        "cv.waitKey('time')"
      ],
      "metadata": {
        "id": "hMFy80c1aN47"
      },
      "execution_count": null,
      "outputs": []
    },
    {
      "cell_type": "markdown",
      "source": [
        "키보드 입력을 처리하는 함수\\\n",
        "무한대기  => time = 0\n",
        "> -반환 값 사용자가 입력한 아스키 코드"
      ],
      "metadata": {
        "id": "CXCE707xcc9W"
      }
    },
    {
      "cell_type": "code",
      "source": [
        "#화면의 모든 윈도우창을 닫는 함수\n",
        "cv.destroyAllWindows()"
      ],
      "metadata": {
        "id": "qCAx48R0cdPT"
      },
      "execution_count": null,
      "outputs": []
    },
    {
      "cell_type": "markdown",
      "source": [
        ">- 위에 실행 코드로 켜진 윈도우 창을 모두 닫아버린다.\n"
      ],
      "metadata": {
        "id": "HyLgDBqfc0cm"
      }
    },
    {
      "cell_type": "code",
      "source": [
        "#실제 예시 코드\n",
        "#위 함수 활용 예씨\n",
        "pic = \"상대적 경로 파일위치\"\n",
        "img = cv.imread(pic, cv.IMREAD_COLOR)\n",
        "cv.imshow('color', img)\n",
        "cv.waitKey(0)\n",
        "cv.imwrite(\"result1.jpg\", img)\n",
        "\n",
        "img_gray = cv.cvtColor(img, cv.COLOR_BGR2GRAY)\n",
        "cv.imshow(\"gray\", img_gray)\n",
        "cv.waitKey(0)\n",
        "cv.imwrite('result2', img_gray)\n",
        "\n",
        "cv.destroyAllWindows()"
      ],
      "metadata": {
        "id": "CmvP1QQGcwun"
      },
      "execution_count": null,
      "outputs": []
    },
    {
      "cell_type": "code",
      "source": [
        ""
      ],
      "metadata": {
        "id": "xgKUmVa1cx17"
      },
      "execution_count": null,
      "outputs": []
    },
    {
      "cell_type": "code",
      "source": [
        ""
      ],
      "metadata": {
        "id": "KkrGzaaJcdSB"
      },
      "execution_count": null,
      "outputs": []
    },
    {
      "cell_type": "code",
      "source": [
        ""
      ],
      "metadata": {
        "id": "yBMlEG4NcdYx"
      },
      "execution_count": null,
      "outputs": []
    },
    {
      "cell_type": "code",
      "source": [
        ""
      ],
      "metadata": {
        "id": "WGi0RRSDcdbk"
      },
      "execution_count": null,
      "outputs": []
    },
    {
      "cell_type": "code",
      "source": [
        ""
      ],
      "metadata": {
        "id": "xHnyiRKfceAT"
      },
      "execution_count": null,
      "outputs": []
    },
    {
      "cell_type": "code",
      "source": [
        ""
      ],
      "metadata": {
        "id": "i4vkOHniceE8"
      },
      "execution_count": null,
      "outputs": []
    },
    {
      "cell_type": "code",
      "source": [
        ""
      ],
      "metadata": {
        "id": "zEUps0x2ceIq"
      },
      "execution_count": null,
      "outputs": []
    }
  ]
}
