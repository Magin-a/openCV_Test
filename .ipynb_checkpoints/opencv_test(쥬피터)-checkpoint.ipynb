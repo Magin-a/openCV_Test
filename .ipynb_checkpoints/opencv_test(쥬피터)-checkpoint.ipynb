{
 "cells": [
  {
   "cell_type": "code",
   "execution_count": 1,
   "id": "immune-compromise",
   "metadata": {},
   "outputs": [],
   "source": [
    "import cv2 as cv\n",
    "\n",
    "\n",
    "img = cv.imread(\"IMAGE\\\\lulu.jpg\")  #ex) cv.imread(r'C:\\Users\\starry_night.jpg')\n",
    "cv.imshow('img', img)\n",
    "cv.waitKey(0)\n",
    "cv.destroyAllWindows()"
   ]
  },
  {
   "cell_type": "code",
   "execution_count": 2,
   "id": "unable-caribbean",
   "metadata": {},
   "outputs": [],
   "source": [
    "import cv2 as cv\n",
    "import numpy as np\n",
    "\n",
    "img = \"IMAGE\\\\lulu.jpg\"\n",
    "\n",
    "img1 = cv.imread(img)  #ex) cv.imread(r'C:\\Users\\starry_night.jpg')\n",
    "target_img = img1.copy()\n",
    "img1_gray = cv.cvtColor(img1, cv.COLOR_RGB2GRAY)\n",
    "rtn, img1_thr = cv.threshold(img1_gray, 127, 255, cv.THRESH_BINARY)\n",
    "\n",
    "contours, hierarchty = cv.findContours(img1_thr, cv.RETR_LIST, cv.CHAIN_APPROX_NONE)\n",
    "\n",
    "COLOR = (0, 200, 0)\n",
    "cv.drawContours(target_img, contours, -1, COLOR, 2)\n",
    "\n",
    "\n",
    "cv.imshow('img', img1)\n",
    "cv.imshow(\"gray\", img1_gray)\n",
    "cv.imshow('contours', target_img)\n",
    "cv.waitKey(0)\n",
    "cv.destroyAllWindows()"
   ]
  },
  {
   "cell_type": "code",
   "execution_count": null,
   "id": "driven-uncertainty",
   "metadata": {},
   "outputs": [],
   "source": []
  }
 ],
 "metadata": {
  "kernelspec": {
   "display_name": "Python 3",
   "language": "python",
   "name": "python3"
  },
  "language_info": {
   "codemirror_mode": {
    "name": "ipython",
    "version": 3
   },
   "file_extension": ".py",
   "mimetype": "text/x-python",
   "name": "python",
   "nbconvert_exporter": "python",
   "pygments_lexer": "ipython3",
   "version": "3.8.8"
  }
 },
 "nbformat": 4,
 "nbformat_minor": 5
}
